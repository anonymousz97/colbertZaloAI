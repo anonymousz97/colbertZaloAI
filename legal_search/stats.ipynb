{
 "cells": [
  {
   "cell_type": "code",
   "execution_count": 2,
   "id": "0fac2db5-8e4e-4031-98fe-5140a3ba31b4",
   "metadata": {},
   "outputs": [],
   "source": [
    "import json\n",
    "import os\n",
    "from numpy import dot\n",
    "from numpy.linalg import norm"
   ]
  },
  {
   "cell_type": "code",
   "execution_count": 3,
   "id": "b9d84e7c-11d9-404d-9b47-634c027285a3",
   "metadata": {},
   "outputs": [],
   "source": [
    "with open(\"vietnamese-stopwords.txt\",'r') as f:\n",
    "    stopwords = f.read()\n"
   ]
  },
  {
   "cell_type": "code",
   "execution_count": 4,
   "id": "25f49c54-dd24-4303-9f9c-60d6ef43de91",
   "metadata": {},
   "outputs": [],
   "source": [
    "# print(stopwords)"
   ]
  },
  {
   "cell_type": "code",
   "execution_count": 5,
   "id": "95c6561e-29ff-4298-b121-2a78a433eb35",
   "metadata": {},
   "outputs": [],
   "source": [
    "def get_vector_roberta(sens):\n",
    "    # Encode using roberta class\n",
    "    tokens_ids = roberta.encode(sens)\n",
    "    # assert tokens_ids.tolist() == [0, 451, 71, 3401, 1384, 168, 234, 5, 2]\n",
    "    # Extracted feature using roberta model\n",
    "    tokens_embed = roberta.extract_features(tokens_ids)\n",
    "    # assert tokens_embed.shape == (1, 9, 512)\n",
    "    return tokens_embed,tokens_embed[0,-1,:]"
   ]
  },
  {
   "cell_type": "code",
   "execution_count": 23,
   "id": "e4a76a4f-efab-48b2-8eca-8b91bfe0942a",
   "metadata": {},
   "outputs": [
    {
     "ename": "NameError",
     "evalue": "name 'tokens_embed' is not defined",
     "output_type": "error",
     "traceback": [
      "\u001b[0;31m---------------------------------------------------------------------------\u001b[0m",
      "\u001b[0;31mNameError\u001b[0m                                 Traceback (most recent call last)",
      "\u001b[0;32m<ipython-input-23-6152207f78b1>\u001b[0m in \u001b[0;36m<module>\u001b[0;34m()\u001b[0m\n\u001b[0;32m----> 1\u001b[0;31m \u001b[0mtokens_embed\u001b[0m\u001b[0;34m\u001b[0m\u001b[0;34m\u001b[0m\u001b[0m\n\u001b[0m",
      "\u001b[0;31mNameError\u001b[0m: name 'tokens_embed' is not defined"
     ]
    }
   ],
   "source": [
    "tokens_embed"
   ]
  },
  {
   "cell_type": "code",
   "execution_count": 6,
   "id": "b9651ea8-9e15-45e4-9acd-feb56019ab35",
   "metadata": {},
   "outputs": [],
   "source": [
    "data_path = \"./data/\""
   ]
  },
  {
   "cell_type": "code",
   "execution_count": 7,
   "id": "8c9325be-a612-4818-9618-fb51d6716d86",
   "metadata": {},
   "outputs": [],
   "source": [
    "with open(os.path.join(data_path,\"legal_corpus.json\"),'r') as f:\n",
    "    law_data = json.load(f)"
   ]
  },
  {
   "cell_type": "code",
   "execution_count": 8,
   "id": "e57b8fb4",
   "metadata": {},
   "outputs": [
    {
     "name": "stdout",
     "output_type": "stream",
     "text": [
      "61425\n"
     ]
    }
   ],
   "source": [
    "count_doc = 0\n",
    "for item in law_data:\n",
    "    count_doc += len(item['articles'])\n",
    "print(count_doc)\n"
   ]
  },
  {
   "cell_type": "code",
   "execution_count": 9,
   "id": "5c6b355f-c961-40e6-916e-8cca43ef0014",
   "metadata": {},
   "outputs": [
    {
     "name": "stdout",
     "output_type": "stream",
     "text": [
      "01/2009/tt-bnn\n"
     ]
    }
   ],
   "source": [
    "print(law_data[0]['law_id'])"
   ]
  },
  {
   "cell_type": "code",
   "execution_count": 10,
   "id": "1d4d00ef-f164-42a5-afa3-71ede0466b0a",
   "metadata": {},
   "outputs": [
    {
     "name": "stdout",
     "output_type": "stream",
     "text": [
      "{'article_id': '1', 'title': 'Điều 1. Phạm vi áp dụng', 'text': 'Thông tư này hướng dẫn tuần tra, canh gác bảo vệ đê Điều trong mùa lũ đối với các tuyến đê sông được phân loại, phân cấp theo quy định tại Điều 4 của Luật Đê Điều.'}\n"
     ]
    }
   ],
   "source": [
    "print(law_data[0]['articles'][0])"
   ]
  },
  {
   "cell_type": "code",
   "execution_count": 11,
   "id": "90b87541-6055-467b-86bf-31ac8f57be1e",
   "metadata": {},
   "outputs": [],
   "source": [
    "title_corpus = []\n",
    "articles_corpus = []"
   ]
  },
  {
   "cell_type": "code",
   "execution_count": 12,
   "id": "87609beb-0d3d-4205-8af9-340c7f75a96d",
   "metadata": {},
   "outputs": [],
   "source": [
    "from underthesea import word_tokenize"
   ]
  },
  {
   "cell_type": "code",
   "execution_count": 13,
   "id": "81120fae-f85d-4de8-b7e6-a89e1308646c",
   "metadata": {},
   "outputs": [],
   "source": [
    "for law in law_data:\n",
    "    for article in law['articles']:\n",
    "#         title_corpus.append(filter_stopword(article['title'],stopwords))\n",
    "#         articles_corpus.append(filter_stopword(article['text'],stopwords))\n",
    "        title_corpus.append(word_tokenize(article['title'], format=\"text\"))\n",
    "        articles_corpus.append(word_tokenize(article['text'], format=\"text\"))"
   ]
  },
  {
   "cell_type": "code",
   "execution_count": 14,
   "id": "3f3e9a6f-f433-43ec-bb7a-bf6a6af5486a",
   "metadata": {},
   "outputs": [],
   "source": [
    "law_data_dict = {doc['law_id']:doc['articles'] for doc in law_data}"
   ]
  },
  {
   "cell_type": "code",
   "execution_count": 15,
   "id": "33bf398b-6721-41d9-89d8-af4ba915c478",
   "metadata": {},
   "outputs": [],
   "source": [
    "def get_law_id_from_title(title):\n",
    "    lst_law = []\n",
    "    for item in law_data_dict.keys():\n",
    "        for it in law_data_dict[item]:\n",
    "            if it['title'] == title:\n",
    "                lst_law.append(item)\n",
    "                break\n",
    "    return lst_law"
   ]
  },
  {
   "cell_type": "code",
   "execution_count": 16,
   "id": "57309a24-4943-459f-b2b8-6fa774ceb704",
   "metadata": {},
   "outputs": [
    {
     "name": "stdout",
     "output_type": "stream",
     "text": [
      "61425\n",
      "61425\n"
     ]
    }
   ],
   "source": [
    "print(len(title_corpus))\n",
    "print(len(articles_corpus))"
   ]
  },
  {
   "cell_type": "code",
   "execution_count": 17,
   "id": "ffa5c41b-be69-40b6-95a6-fe989d15a08b",
   "metadata": {},
   "outputs": [],
   "source": [
    "def filter_stopword(sen,stopwords):\n",
    "    text = ' '.join([word for word in sen.split() if word not in stopwords])\n",
    "    return text"
   ]
  },
  {
   "cell_type": "code",
   "execution_count": 18,
   "id": "627a64e9-0d41-45d9-b0cd-7b03625c670a",
   "metadata": {},
   "outputs": [],
   "source": [
    "from rank_bm25 import BM25Okapi\n",
    "\n",
    "tokenized_title = [doc.split(\" \") for doc in title_corpus]\n",
    "tokenized_articles = [doc.split(\" \") for doc in articles_corpus]\n",
    "\n",
    "bm25_title = BM25Okapi(tokenized_title)\n",
    "bm25_article = BM25Okapi(tokenized_articles)"
   ]
  },
  {
   "cell_type": "code",
   "execution_count": 19,
   "id": "5065da8d-a5a9-48c6-aca2-8ee3c8f4aab1",
   "metadata": {},
   "outputs": [],
   "source": [
    "with open(os.path.join(data_path,\"train_question_answer.json\"),'r') as f:\n",
    "    train_data = json.load(f)"
   ]
  },
  {
   "cell_type": "code",
   "execution_count": 20,
   "id": "c3ca64e3-67ef-4dd7-a09a-eda63c39a314",
   "metadata": {},
   "outputs": [
    {
     "name": "stdout",
     "output_type": "stream",
     "text": [
      "<class 'dict'>\n"
     ]
    }
   ],
   "source": [
    "print(type(train_data))"
   ]
  },
  {
   "cell_type": "code",
   "execution_count": 21,
   "id": "c19970fb",
   "metadata": {},
   "outputs": [
    {
     "name": "stdout",
     "output_type": "stream",
     "text": [
      "3196\n"
     ]
    }
   ],
   "source": [
    "print(train_data['_count_'])"
   ]
  },
  {
   "cell_type": "code",
   "execution_count": 22,
   "id": "34581fff-ff84-46ea-9bb2-65f37d38d4b8",
   "metadata": {},
   "outputs": [
    {
     "data": {
      "text/plain": [
       "dict_keys(['_name_', '_date_time_', '_count_', 'items'])"
      ]
     },
     "execution_count": 22,
     "metadata": {},
     "output_type": "execute_result"
    }
   ],
   "source": [
    "train_data.keys()"
   ]
  },
  {
   "cell_type": "code",
   "execution_count": 23,
   "id": "cd942db1-efd3-4319-bf44-3d318efe2cd9",
   "metadata": {},
   "outputs": [
    {
     "name": "stdout",
     "output_type": "stream",
     "text": [
      "{'question_id': '3aed91309b72097b34427dd28bebd98a', 'question': 'Tử tù chết sau khi tiêm thuốc độc mà không có thân nhân nhận xác thì được hỗ trợ mai táng như thế nào?', 'relevant_articles': [{'law_id': '53/2010/qh12', 'article_id': '60'}, {'law_id': '82/2011/nđ-cp', 'article_id': '9'}]}\n"
     ]
    }
   ],
   "source": [
    "for ind,question in enumerate(train_data['items']):\n",
    "    if ind == 3:\n",
    "        print(question)\n",
    "        break"
   ]
  },
  {
   "cell_type": "code",
   "execution_count": 24,
   "id": "8a8052a6-2a05-4fb9-9215-583199c51b03",
   "metadata": {},
   "outputs": [],
   "source": [
    "def get_doc_by_law_and_article(relevant_articles):\n",
    "    lst_doc = []\n",
    "    for law in relevant_articles:\n",
    "        tmp = law_data_dict[law['law_id']]\n",
    "        for item in tmp:\n",
    "            if item['article_id'] == law['article_id']:\n",
    "                lst_doc.append({item['title']:item['text']})\n",
    "    return lst_doc"
   ]
  },
  {
   "cell_type": "code",
   "execution_count": 25,
   "id": "5db1c504-e5ee-4a96-9085-711cc01c3fb2",
   "metadata": {},
   "outputs": [
    {
     "data": {
      "text/plain": [
       "[{'Điều 60. Giải quyết việc xin nhận tử thi, hài cốt của người bị thi hành án tử hình': '1. Việc giải quyết nhận tử thi được thực hiện như sau:\\na) Trước khi thi hành án tử hình, thân nhân hoặc người đại diện hợp pháp của người chấp hành án được làm đơn có xác nhận của Ủy ban nhân dân cấp xã nơi cư trú gửi Chánh án Tòa án đã xét xử sơ thẩm đề nghị giải quyết cho nhận tử thi của người chấp hành án để an táng; trường hợp người chấp hành án là người nước ngoài thì đơn phải có xác nhận của cơ quan có thẩm quyền hoặc cơ quan đại diện ngoại giao tại Việt Nam của nước mà người chấp hành án mang quốc tịch và phải được dịch ra tiếng Việt. Đơn phải ghi rõ họ tên, địa chỉ người nhận tử thi, quan hệ với người chấp hành án; cam kết bảo đảm yêu cầu về an ninh, trật tự, vệ sinh môi trường và tự chịu chi phí;\\nb) Chánh án Tòa án đã xét xử sơ thẩm thông báo bằng văn bản cho người có đơn đề nghị về việc cho nhận tử thi hoặc không cho nhận tử thi khi có căn cứ cho rằng việc nhận tử thi ảnh hưởng đến an ninh, trật tự, vệ sinh môi trường. Trường hợp người chấp hành án là người nước ngoài, thì Chánh án Tòa án đã xét xử sơ thẩm có trách nhiệm thông báo bằng văn bản cho Bộ Ngoại giao Việt Nam để thông báo cho cơ quan có thẩm quyền hoặc cơ quan đại diện ngoại giao tại Việt Nam của nước mà người đó mang quốc tịch;\\nc) Cơ quan thi hành án hình sự Công an cấp tỉnh, cơ quan thi hành án hình sự cấp quân khu có trách nhiệm thông báo cho người có đơn đề nghị ngay sau khi thi hành án để đến nhận tử thi về an táng. Việc giao nhận tử thi phải được thực hiện trong thời hạn 24 giờ kể từ khi thông báo và phải lập biên bản, có chữ ký của các bên giao, nhận; hết thời hạn này mà người có đơn đề nghị không đến nhận tử thi thì cơ quan thi hành án hình sự Công an cấp tỉnh, cơ quan thi hành án hình sự cấp quân khu có trách nhiệm an táng.\\n2. Trường hợp không được nhận tử thi hoặc thân nhân của người bị thi hành án không có đơn đề nghị được nhận tử thi về an táng thì cơ quan thi hành án hình sự Công an cấp tỉnh, cơ quan thi hành án hình sự cấp quân khu tổ chức việc an táng. Sau 03 năm kể từ ngày thi hành án, thân nhân hoặc đại diện hợp pháp của người đã bị thi hành án được làm đơn có xác nhận của Ủy ban nhân dân cấp xã nơi cư trú đề nghị Cơ quan thi hành án hình sự Công an cấp tỉnh, cơ quan thi hành án hình sự cấp quân khu nơi đã thi hành án cho nhận hài cốt. Đơn đề nghị phải ghi rõ họ tên, địa chỉ người nhận hài cốt, quan hệ với người bị thi hành án; cam kết bảo đảm yêu cầu về an ninh, trật tự, vệ sinh môi trường và tự chịu chi phí. Trong thời hạn 07 ngày, kể từ ngày nhận được đơn, cơ quan thi hành án hình sự Công an cấp tỉnh, cơ quan thi hành án hình sự cấp quân khu có trách nhiệm xem xét, giải quyết.\\nTrường hợp người bị thi hành án là người nước ngoài thì đơn đề nghị phải có xác nhận của cơ quan có thẩm quyền hoặc cơ quan đại diện ngoại giao tại Việt Nam của nước mà người bị thi hành án mang quốc tịch và phải được dịch ra tiếng Việt. Việc giải quyết cho nhận hài cốt do cơ quan quản lý thi hành án hình sự xem xét, quyết định.'}]"
      ]
     },
     "execution_count": 25,
     "metadata": {},
     "output_type": "execute_result"
    }
   ],
   "source": [
    "get_doc_by_law_and_article([{'law_id': '53/2010/qh12', 'article_id': '60'}])"
   ]
  },
  {
   "cell_type": "code",
   "execution_count": 28,
   "id": "0ee2ed1e-7f92-47b0-ac47-f51d5e25b860",
   "metadata": {},
   "outputs": [
    {
     "name": "stdout",
     "output_type": "stream",
     "text": [
      "Tử_tù chết sau khi tiêm thuốc_độc mà không có thân_nhân nhận xác thì được hỗ_trợ mai_táng như thế_nào ?\n"
     ]
    }
   ],
   "source": [
    "query = 'Tử tù chết sau khi tiêm thuốc độc mà không có thân nhân nhận xác thì được hỗ trợ mai táng như thế nào?'\n",
    "query = word_tokenize(query,format='text')\n",
    "#query = filter_stopword(query,stopwords)\n",
    "print(query)\n",
    "tokenized_query = query.split(' ')\n",
    "res_articles = bm25_article.get_top_n(tokenized_query, articles_corpus, n=10)\n",
    "res_title = bm25_title.get_top_n(tokenized_query, title_corpus, n=1000)"
   ]
  },
  {
   "cell_type": "code",
   "execution_count": 32,
   "id": "4de093fa",
   "metadata": {},
   "outputs": [
    {
     "name": "stdout",
     "output_type": "stream",
     "text": [
      "['1 . Trường_hợp thân_nhân của người hiến bộ_phận cơ_thể người sau khi chết , hiến xác có nhu_cầu tổ_chức tang_lễ và mai_táng di_hài cho người hiến bộ_phận cơ_thể người sau khi chết , hiến xác được hỗ_trợ mai_táng_phí bằng 10 tháng lương cơ_sở . Thân_nhân của người hiến bộ_phận cơ_thể người sau khi chết , hiến xác phải xuất_trình với cơ_sở y_tế , cơ_sở tiếp_nhận và bảo_quản xác của người hiến giấy_tờ chứng_minh là thân_nhân của người đã hiến bộ_phận cơ_thể người sau khi chết , hiến xác để nhận chế_độ tổ_chức tang_lễ và mai_táng di_hài theo quy_định tại Khoản này . 2 . Trường_hợp cơ_sở y_tế , cơ_sở tiếp_nhận và bảo_quản xác của người hiến tổ_chức tang_lễ và mai_táng được thanh_toán chi_phí theo thực_tế phát_sinh nhưng tối_đa không quá 10 tháng lương cơ_sở .', '1 . Người đang hưởng lương hưu trước ngày 01 tháng 01 năm 2016 mà chết từ ngày 01 tháng 01 năm 2016 trở_đi thì người lo mai_táng được nhận một lần trợ_cấp mai_táng bằng 10 lần mức lương cơ_sở_tại tháng người đang hưởng lương hưu chết , đồng_thời thân_nhân được nhận trợ_cấp tuất hằng tháng hoặc trợ_cấp tuất một lần theo quy_định tại Mục 5 Chương III của Luật bảo_hiểm xã_hội và quy_định tại Mục 3 Chương II của Nghị_định này . 2 . Người đang hưởng trợ_cấp mất sức_lao_động hằng tháng trước ngày 01 tháng 01 năm 2016 mà chết từ ngày 01 tháng 01 năm 2016 trở đi thì : a ) Người lo mai_táng được nhận trợ_cấp mai_táng bằng 10 lần mức lương cơ_sở_tại tháng mà người đang hưởng trợ_cấp mất sức_lao_động chết ; b ) Thân_nhân theo quy_định tại Khoản 2 Điều 67 của Luật_Bảo_hiểm xã_hội được hưởng trợ_cấp tuất hằng tháng theo quy_định tại Điều 68 của Luật_Bảo_hiểm xã_hội . Trường_hợp không có thân_nhân thuộc diện hưởng trợ_cấp tuất hằng tháng thì thân_nhân được hưởng trợ_cấp tuất một lần bằng 3 tháng mức trợ_cấp mất sức_lao_động hằng tháng đang hưởng trước khi chết . 3 . Người đang hưởng trợ_cấp tai_nạn lao_động , bệnh_nghề_nghiệp hàng tháng trước ngày 01 tháng 01 năm 2016 đã nghỉ_việc mà chết từ ngày 01 tháng 01 năm 2016 trở_đi thì người lo mai_táng được nhận một lần trợ_cấp mai_táng bằng 10 lần mức lương cơ_sở_tại tháng người đang hưởng trợ_cấp chết , đồng_thời thân_nhân được hưởng trợ_cấp tuất như sau : a ) Đối_với người đang hưởng trợ_cấp tai_nạn lao_động , bệnh_nghề_nghiệp hằng tháng với mức suy_giảm khả_năng lao_động từ 61 % trở lên chết thì thân_nhân đủ điều_kiện quy_định tại Khoản 2 và Khoản 3 Điều 67 của Luật_Bảo_hiểm xã_hội được hưởng trợ_cấp tuất hằng tháng ; b ) Đối_với trường_hợp đang hưởng trợ_cấp tai_nạn lao_động , bệnh_nghề_nghiệp hằng tháng khi chết không thuộc đối_tượng quy_định tại Điểm a_Khoản này mà có thời_gian tham_gia bảo_hiểm xã_hội nhưng chưa hưởng bảo_hiểm xã_hội một lần thì thực_hiện chế_độ tử tuất đối_với người đang bảo_lưu thời_gian đóng bảo_hiểm xã_hội chết . 4 . Người vừa hưởng lương hưu vừa hưởng trợ_cấp tai_nạn lao_động , bệnh_nghề_nghiệp hằng tháng khi chết thì thân_nhân được hưởng chế_độ tử tuất như người đang hưởng lương hưu chết . 5 . Thân_nhân dưới 18 tuổi đang hưởng trợ_cấp tuất hàng tháng trước ngày 01 tháng 01 năm 2016 thì từ ngày 01 tháng 01 năm 2016 được tiếp_tục hưởng trợ_cấp tuất hằng tháng cho đến khi đủ 18 tuổi , trừ trường_hợp bị suy_giảm khả_năng lao_động từ 81 % trở_lên .']\n"
     ]
    }
   ],
   "source": [
    "print(res_articles[:2])"
   ]
  },
  {
   "cell_type": "code",
   "execution_count": 61,
   "id": "27343a57",
   "metadata": {},
   "outputs": [
    {
     "name": "stdout",
     "output_type": "stream",
     "text": [
      "[ 4.08005858 11.58885014  3.88619918  7.95027111  8.16011716 13.88503808\n",
      " 12.72734876  7.96136732  5.63017382 12.30007837]\n"
     ]
    }
   ],
   "source": [
    "doc_scores = bm25_article.get_scores(tokenized_query)\n",
    "print((doc_scores[:10]))"
   ]
  },
  {
   "cell_type": "code",
   "execution_count": 44,
   "id": "f36a6e93-2479-42bf-a6d0-e1c82e6e3a72",
   "metadata": {},
   "outputs": [
    {
     "name": "stdout",
     "output_type": "stream",
     "text": [
      "['176/2013/nđ-cp', '53/2010/qh12', '22/2018/nđ-cp', '105/2016/ttlt-bqp-bca-blđtbxh', '52/2014/qh13', '98/2018/nđ-cp', '104/2017/tt-btc', '39/2015/nđ-cp', '56/2017/nđ-cp', '02/2015/ttlt-bca-bqp-byt', '31/2013/nđ-cp', '102/2014/nđ-cp', '74/2015/nđ-cp', '57/2018/nđ-cp', '25/2014/ttlt-byt-btc', '49/2010/qh12', '41/2019/qh14', '03/2017/tt-btnmt', '21/2019/tt-bct', '39/2009/qh12', '21/2012/qđ-ttg', '14/2016/tt-byt', '112/2017/nđ-cp', '20/2012/tt-bkhcn', '108/2016/qh13', '27/2013/ttlt-bgdđt-btc', '38/2013/qh13', '20/2021/nđ-cp', '12/2017/tt-blđtbxh', '33/2016/nđ-cp', '45/2014/tt-btc', '85/2010/qđ-ttg', '102/2018/nđ-cp', '105/2012/nđ-cp', '117/2020/nđ-cp', '56/2017/tt-byt', '43/2020/nđ-cp', '15/2017/tt-btc', '111/2010/nđ-cp', '82/2011/nđ-cp', '73/2017/tt-btc', '07/2019/tt-btp', '16/2014/ttlt-btp-btnmt-nhnn', '04/2018/ttlt-bca-bqp-tandtc-vksndtc', '18/2019/nđ-cp', '04/2020/tt-btp', '29/2018/tt-btc', '80/2011/nđ-cp', '91/2015/qh13', '65/2018/nđ-cp', '19/2015/nđ-cp', '32/2018/tt-blđtbxh', '02/2016/qh14', '07/2016/ttlt-byt-btc-blđtbxh', '12/2013/qđ-ttg', '88/2008/nđ-cp', '20/2001/nđ-cp', '47/2014/nđ-cp', '31/2018/tt-byt', '75/2006/qh', '54/2017/nđ-cp', '65/2017/nđ-cp', '22/2013/qđ-ttg', '115/2015/nđ-cp', '34/2018/tt-byt', '109/2015/nđ-cp', '58/2018/nđ-cp', '01/2016/tt-blđtbxh', '26/2015/tt-nhnn']\n"
     ]
    }
   ],
   "source": [
    "lst_law_id_relevant = []\n",
    "for item in res_title:\n",
    "    #print(\"-\"*50)\n",
    "    #result = \" \".join(item)\n",
    "    lst_law_id_relevant += get_law_id_from_title(item)\n",
    "\n",
    "lst_law_id_relevant = list(set(lst_law_id_relevant))\n",
    "print(lst_law_id_relevant)"
   ]
  },
  {
   "cell_type": "code",
   "execution_count": 45,
   "id": "bc01feb1-4470-4f4d-b8d0-0161ca03f0e3",
   "metadata": {},
   "outputs": [
    {
     "data": {
      "text/plain": [
       "['55/2018/nđ-cp']"
      ]
     },
     "execution_count": 45,
     "metadata": {},
     "output_type": "execute_result"
    }
   ],
   "source": [
    "get_law_id_from_title(\"Điều 14. Thẩm quyền xử phạt của Công an nhân dân\")"
   ]
  },
  {
   "cell_type": "code",
   "execution_count": 46,
   "id": "93a9cf47-b282-4f73-8cfd-263d61474cdf",
   "metadata": {},
   "outputs": [],
   "source": [
    "from tqdm import tqdm\n",
    "import pandas as pd\n",
    "def get_similar(query,lst_law):\n",
    "    _, query_vector = get_vector_roberta(query)\n",
    "    query_vector = query_vector.detach()\n",
    "    law_id = []\n",
    "    article_id = []\n",
    "    score = []\n",
    "    for item in lst_law:\n",
    "        docs = law_data_dict[item]\n",
    "        for it in tqdm(docs):\n",
    "            _,last_res = get_vector_roberta(it['text'][:512])\n",
    "            last_res = last_res.detach()\n",
    "            law_id.append(item)\n",
    "            article_id.append(it['article_id'])\n",
    "            score.append(cosine(query_vector,last_res))\n",
    "    df = pd.DataFrame({\"law_id\":law_id,\"article_id\":article_id,\"score\":score})\n",
    "    df = df.sort_values(by=['score'])\n",
    "    return df"
   ]
  },
  {
   "cell_type": "code",
   "execution_count": 47,
   "id": "db86861d-8887-499c-ad25-820a9f14c873",
   "metadata": {},
   "outputs": [],
   "source": [
    "def cosine(a,b):\n",
    "    cos_sim = dot(a, b)/(norm(a)*norm(b))\n",
    "    return cos_sim"
   ]
  },
  {
   "cell_type": "code",
   "execution_count": 49,
   "id": "43a87c71-222a-415f-9199-1b2b7d404aec",
   "metadata": {},
   "outputs": [],
   "source": [
    "# df = get_similar(query,[\"53/2010/qh12\"])"
   ]
  },
  {
   "cell_type": "code",
   "execution_count": 161,
   "id": "8e719c5f-fff7-4455-927f-5a1a442745cf",
   "metadata": {},
   "outputs": [],
   "source": [
    "df = df.reset_index(drop=True)\n",
    "# df.tail(20)"
   ]
  },
  {
   "cell_type": "code",
   "execution_count": 50,
   "id": "f44b6d03-a99a-40b3-812b-907f96982a63",
   "metadata": {},
   "outputs": [],
   "source": [
    "max_relevant = 0\n",
    "max_question = \"\"\n",
    "for ind,question in enumerate(train_data['items']):\n",
    "    if len(question['relevant_articles']) > max_relevant:\n",
    "        max_relevant = len(question['relevant_articles'])\n",
    "        max_question = question"
   ]
  },
  {
   "cell_type": "code",
   "execution_count": 51,
   "id": "3a4514f9-56a0-48e2-8623-5af79d435e2a",
   "metadata": {},
   "outputs": [
    {
     "data": {
      "text/plain": [
       "(3,\n",
       " {'question_id': '8566fb9669f3c2086b9e5cea4306a162',\n",
       "  'question': 'Cục Xuất bản, In và Phát hành có trách nhiệm gì trong việc thẩm định đề án và xác nhận đăng ký hoạt động xuất bản, phát hành',\n",
       "  'relevant_articles': [{'law_id': '195/2013/nđ-cp', 'article_id': '17'},\n",
       "   {'law_id': '01/2020/tt-btttt', 'article_id': '24'},\n",
       "   {'law_id': '195/2013/nđ-cp', 'article_id': '18'}]})"
      ]
     },
     "execution_count": 51,
     "metadata": {},
     "output_type": "execute_result"
    }
   ],
   "source": [
    "max_relevant,max_question"
   ]
  },
  {
   "cell_type": "code",
   "execution_count": 169,
   "id": "c6ac89de-a780-43cc-95cd-9d204bef8a2d",
   "metadata": {},
   "outputs": [
    {
     "name": "stdout",
     "output_type": "stream",
     "text": [
      "n = 5 cover 0.711340206185567\n",
      "n = 10 cover 0.7832019405700424\n",
      "n = 15 cover 0.8101879927228623\n",
      "n = 20 cover 0.8302001212856277\n",
      "n = 25 cover 0.8441479684657368\n"
     ]
    }
   ],
   "source": [
    "\n",
    "# for i in [5,10,15,20,25]:\n",
    "#     find = 0\n",
    "#     total = 0\n",
    "#     for ind,question in enumerate(train_data['items']):\n",
    "#         query = question['question']\n",
    "#         tokenized_query = query.split(' ')\n",
    "#         res_title = bm25_title.get_top_n(tokenized_query, title_corpus, n=i)\n",
    "#         lst_law_id_relevant = []\n",
    "#         for item in res_title:\n",
    "#             lst_law_id_relevant += get_law_id_from_title(item)\n",
    "#         count = 0\n",
    "#         for item in question['relevant_articles']:\n",
    "#             if item['law_id'] in lst_law_id_relevant:\n",
    "#                 find += 1\n",
    "#         total += len(question['relevant_articles'])\n",
    "#     print(\"n = {} cover {}\".format(i,1.0*find/total))"
   ]
  },
  {
   "cell_type": "code",
   "execution_count": 52,
   "id": "e667e8bf",
   "metadata": {},
   "outputs": [
    {
     "name": "stdout",
     "output_type": "stream",
     "text": [
      "{'question_id': '3aed91309b72097b34427dd28bebd98a', 'question': 'Tử tù chết sau khi tiêm thuốc độc mà không có thân nhân nhận xác thì được hỗ trợ mai táng như thế nào?', 'relevant_articles': [{'law_id': '53/2010/qh12', 'article_id': '60'}, {'law_id': '82/2011/nđ-cp', 'article_id': '9'}]}\n"
     ]
    }
   ],
   "source": [
    "for ind,question in enumerate(train_data['items']):\n",
    "    if ind == 3:\n",
    "        print(question)\n",
    "        break"
   ]
  },
  {
   "cell_type": "code",
   "execution_count": 83,
   "id": "f6a6f181-c01c-454a-8e8b-5d0a21ee9e5b",
   "metadata": {},
   "outputs": [],
   "source": [
    "import random\n",
    "def generate_training_data(question,num_generator=50):\n",
    "    list_answer = get_doc_by_law_and_article(question['relevant_articles'])\n",
    "    list_answer = [list(x.values())[0] for x in list_answer]\n",
    "    random_list = random.sample(articles_corpus,num_generator)\n",
    "    lst_result = []\n",
    "    for item in list_answer:\n",
    "        list_generate = [question['question']+\"\\t\"+item+\"\\t\"+x for x in random_list]\n",
    "        lst_result += list_generate\n",
    "    return lst_result\n",
    "\n"
   ]
  },
  {
   "cell_type": "code",
   "execution_count": 85,
   "id": "f6d1bc25",
   "metadata": {},
   "outputs": [
    {
     "data": {
      "text/plain": [
       "'Tử tù chết sau khi tiêm thuốc độc mà không có thân nhân nhận xác thì được hỗ trợ mai táng như thế nào?\\t1. Việc giải quyết nhận tử thi được thực hiện như sau:\\na) Trước khi thi hành án tử hình, thân nhân hoặc người đại diện hợp pháp của người chấp hành án được làm đơn có xác nhận của Ủy ban nhân dân cấp xã nơi cư trú gửi Chánh án Tòa án đã xét xử sơ thẩm đề nghị giải quyết cho nhận tử thi của người chấp hành án để an táng; trường hợp người chấp hành án là người nước ngoài thì đơn phải có xác nhận của cơ quan có thẩm quyền hoặc cơ quan đại diện ngoại giao tại Việt Nam của nước mà người chấp hành án mang quốc tịch và phải được dịch ra tiếng Việt. Đơn phải ghi rõ họ tên, địa chỉ người nhận tử thi, quan hệ với người chấp hành án; cam kết bảo đảm yêu cầu về an ninh, trật tự, vệ sinh môi trường và tự chịu chi phí;\\nb) Chánh án Tòa án đã xét xử sơ thẩm thông báo bằng văn bản cho người có đơn đề nghị về việc cho nhận tử thi hoặc không cho nhận tử thi khi có căn cứ cho rằng việc nhận tử thi ảnh hưởng đến an ninh, trật tự, vệ sinh môi trường. Trường hợp người chấp hành án là người nước ngoài, thì Chánh án Tòa án đã xét xử sơ thẩm có trách nhiệm thông báo bằng văn bản cho Bộ Ngoại giao Việt Nam để thông báo cho cơ quan có thẩm quyền hoặc cơ quan đại diện ngoại giao tại Việt Nam của nước mà người đó mang quốc tịch;\\nc) Cơ quan thi hành án hình sự Công an cấp tỉnh, cơ quan thi hành án hình sự cấp quân khu có trách nhiệm thông báo cho người có đơn đề nghị ngay sau khi thi hành án để đến nhận tử thi về an táng. Việc giao nhận tử thi phải được thực hiện trong thời hạn 24 giờ kể từ khi thông báo và phải lập biên bản, có chữ ký của các bên giao, nhận; hết thời hạn này mà người có đơn đề nghị không đến nhận tử thi thì cơ quan thi hành án hình sự Công an cấp tỉnh, cơ quan thi hành án hình sự cấp quân khu có trách nhiệm an táng.\\n2. Trường hợp không được nhận tử thi hoặc thân nhân của người bị thi hành án không có đơn đề nghị được nhận tử thi về an táng thì cơ quan thi hành án hình sự Công an cấp tỉnh, cơ quan thi hành án hình sự cấp quân khu tổ chức việc an táng. Sau 03 năm kể từ ngày thi hành án, thân nhân hoặc đại diện hợp pháp của người đã bị thi hành án được làm đơn có xác nhận của Ủy ban nhân dân cấp xã nơi cư trú đề nghị Cơ quan thi hành án hình sự Công an cấp tỉnh, cơ quan thi hành án hình sự cấp quân khu nơi đã thi hành án cho nhận hài cốt. Đơn đề nghị phải ghi rõ họ tên, địa chỉ người nhận hài cốt, quan hệ với người bị thi hành án; cam kết bảo đảm yêu cầu về an ninh, trật tự, vệ sinh môi trường và tự chịu chi phí. Trong thời hạn 07 ngày, kể từ ngày nhận được đơn, cơ quan thi hành án hình sự Công an cấp tỉnh, cơ quan thi hành án hình sự cấp quân khu có trách nhiệm xem xét, giải quyết.\\nTrường hợp người bị thi hành án là người nước ngoài thì đơn đề nghị phải có xác nhận của cơ quan có thẩm quyền hoặc cơ quan đại diện ngoại giao tại Việt Nam của nước mà người bị thi hành án mang quốc tịch và phải được dịch ra tiếng Việt. Việc giải quyết cho nhận hài cốt do cơ quan quản lý thi hành án hình sự xem xét, quyết định.\\tThực hiện theo quy định tại Điều 25 Nghị định số 91/2017/NĐ-CP. Cụ thể như sau:\\n1. “Huân chương Bảo vệ Tổ quốc” hạng nhất để tặng hoặc truy tặng cho cá nhân trong Quân đội, đạt một trong các tiêu chuẩn sau:\\na) Đã được tặng thưởng “Huân chương Bảo vệ Tổ quốc” hạng nhì và 05 năm tiếp theo liên tục lập được thành tích xuất sắc trong huấn luyện, sẵn sàng chiến đấu, công tác, xây dựng lực lượng, củng cố nền quốc phòng toàn dân và an ninh nhân dân, trong thời gian đó có 04 sáng kiến được ứng dụng mang lại hiệu quả cao, có phạm vi ảnh hưởng và nêu gương trong toàn quốc được Bộ Quốc phòng công nhận;\\nb) Có thành tích đặc biệt xuất sắc đột xuất hoặc có phát minh, sáng chế, công trình khoa học, tác phẩm đặc biệt xuất sắc cấp Nhà nước về quốc phòng, an ninh, được Bộ Quốc phòng hoặc Bộ Khoa học và Công nghệ công nhận;\\nc) Có thời gian phục vụ trong Quân đội từ 35 năm trở lên, hoàn thành xuất sắc nhiệm vụ, đã đảm nhiệm một trong các chức vụ: Phó tư lệnh quân đoàn, sư đoàn trưởng hoặc chức danh tương đương từ 10 năm trở lên.\\n2. “Huân chương Bảo vệ Tổ quốc” hạng nhất để tặng cho tập thể gương mẫu chấp hành tốt chủ trương của Đảng, chính sách, pháp luật của Nhà nước, tổ chức Đảng, đoàn thể trong sạch, vững mạnh, đạt một trong các tiêu chuẩn sau:\\na) Đã được tặng thưởng “Huân chương Bảo vệ Tổ quốc” hạng nhì và 05 năm tiếp theo trở lên liên tục hoàn thành xuất sắc nhiệm vụ, trong thời gian đó có 01 lần được tặng “Cờ thi đua của Chính phủ” và 02 lần được tặng “Cờ thi đua của Bộ Quốc phòng” hoặc có 04 lần được tặng “Cờ thi đua của Bộ Quốc phòng”. Đối với tập thể không thuộc đối tượng tặng cờ thi đua trong thời gian đó có 03 lần được tặng “Bằng khen của Bộ trưởng Bộ Quốc phòng”;\\nb) Lập được thành tích xuất sắc trong công tác huấn luyện, sẵn sàng chiến đấu, xây dựng lực lượng, củng cố nền quốc phòng toàn dân và an ninh nhân dân, có phạm vi ảnh hưởng và được phổ biến học tập nêu gương 02 lần trong hội nghị biểu dương điển hình tiên tiến toàn quốc, được Bộ Quốc phòng công nhận.'"
      ]
     },
     "execution_count": 85,
     "metadata": {},
     "output_type": "execute_result"
    }
   ],
   "source": [
    "g[0]"
   ]
  },
  {
   "cell_type": "code",
   "execution_count": 87,
   "id": "380e3102",
   "metadata": {},
   "outputs": [
    {
     "ename": "AttributeError",
     "evalue": "'tuple' object has no attribute 'shape'",
     "output_type": "error",
     "traceback": [
      "\u001b[0;31m---------------------------------------------------------------------------\u001b[0m",
      "\u001b[0;31mAttributeError\u001b[0m                            Traceback (most recent call last)",
      "\u001b[0;32m<ipython-input-87-ef825b98fbf3>\u001b[0m in \u001b[0;36m<module>\u001b[0;34m()\u001b[0m\n\u001b[0;32m----> 1\u001b[0;31m \u001b[0mget_vector_roberta\u001b[0m\u001b[0;34m(\u001b[0m\u001b[0;34m\"chào mọi người\"\u001b[0m\u001b[0;34m)\u001b[0m\u001b[0;34m.\u001b[0m\u001b[0mshape\u001b[0m\u001b[0;34m\u001b[0m\u001b[0;34m\u001b[0m\u001b[0m\n\u001b[0m",
      "\u001b[0;31mAttributeError\u001b[0m: 'tuple' object has no attribute 'shape'"
     ]
    }
   ],
   "source": [
    "import torch\n",
    "from transformers import AutoModel, AutoTokenizer\n",
    "from torch import nn as nn\n",
    "\n",
    "\n",
    "class FineTunePhobert(nn.Module):\n",
    "    def __init__(self,n_output=1):\n",
    "        super(FineTunePhobert,self).__init__()\n",
    "        self.linear = nn.Linear(768,n_output)\n",
    "        self.phobert = AutoModel.from_pretrained(\"vinai/phobert-base\")\n",
    "        self.tokenizer = AutoTokenizer.from_pretrained(\"vinai/phobert-base\")\n",
    "    def forward(self,x):\n",
    "        x = torch.tensor([tokenizer.encode(x)])"
   ]
  },
  {
   "cell_type": "code",
   "execution_count": null,
   "id": "000b8c8f",
   "metadata": {},
   "outputs": [],
   "source": []
  }
 ],
 "metadata": {
  "interpreter": {
   "hash": "31f2aee4e71d21fbe5cf8b01ff0e069b9275f58929596ceb00d14d90e3e16cd6"
  },
  "kernelspec": {
   "display_name": "minh",
   "language": "python",
   "name": "minh"
  },
  "language_info": {
   "codemirror_mode": {
    "name": "ipython",
    "version": 3
   },
   "file_extension": ".py",
   "mimetype": "text/x-python",
   "name": "python",
   "nbconvert_exporter": "python",
   "pygments_lexer": "ipython3",
   "version": "3.6.13"
  }
 },
 "nbformat": 4,
 "nbformat_minor": 5
}
