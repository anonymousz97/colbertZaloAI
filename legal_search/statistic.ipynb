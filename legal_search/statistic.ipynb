{
 "cells": [
  {
   "cell_type": "code",
   "execution_count": 1,
   "id": "fb4e2515",
   "metadata": {},
   "outputs": [],
   "source": [
    "import os\n",
    "import json\n"
   ]
  },
  {
   "cell_type": "code",
   "execution_count": 47,
   "id": "4eb528b3",
   "metadata": {},
   "outputs": [
    {
     "name": "stdout",
     "output_type": "stream",
     "text": [
      "dict_keys(['law_id', 'articles'])\n",
      "138/2016/nđ-cp {'article_id': '25', 'title': 'Điều 25. Các hình thức tổ chức cuộc họp, hội nghị', 'text': '1. Trực tiếp.\\n2. Trực tuyến.'}\n",
      "33/2014/tt-bca {'article_id': '1', 'title': 'Điều 1. Bổ nhiệm Giám định viên kỹ thuật hình sự đối với…..1 cá nhân thuộc Viện khoa học hình sự Bộ Công an.', 'text': '(có danh sách kèm theo)'}\n",
      "91/2010/tt-btc {'article_id': '41', 'title': 'Điều 41. Danh mục, mẫu báo cáo tài chính, báo cáo kế toán quản trị, giải thích nội dung và phương pháp lập báo cáo tài chính, báo cáo kế toán quản trị thực hiện theo quy định tại Phụ lục 04 kèm theo Thông tư này.', 'text': 'III- TỔ CHỨC THỰC HIỆN'}\n",
      "Max length rule :  53107\n",
      "Max length title :  376\n",
      "Average article :  281.3589580789581\n",
      "Average title :  13.355474155474155\n",
      "61425\n"
     ]
    }
   ],
   "source": [
    "with open('./data/legal_corpus.json','r') as f:\n",
    "    data = json.load(f)\n",
    "    \n",
    "print(data[1].keys())\n",
    "max_length_rule = 0\n",
    "max_length_title = 0\n",
    "position_docs = ''\n",
    "position_article = ''\n",
    "avg_article = 0\n",
    "avg_title = 0\n",
    "count = 0\n",
    "articles = []\n",
    "titles = []\n",
    "for docs in data:\n",
    "    for article in docs['articles']:\n",
    "        if len(article['text'].split(' ')) == 5:\n",
    "            print(docs['law_id'],article)\n",
    "        articles.append(len(article['text'].split(' ')))\n",
    "        titles.append(len(article['title'].split(' ')))\n",
    "        avg_article += len(article['text'].split(' '))\n",
    "        avg_title += len(article['title'].split(' '))\n",
    "        count += 1\n",
    "#         print(article)\n",
    "        if max_length_title < len(article['title'].split(' ')):\n",
    "            max_length_title = len(article['title'].split(' '))\n",
    "        if max_length_rule < len(article['text'].split(' ')):\n",
    "            max_length_rule = len(article['text'].split(' '))\n",
    "            position_article = article['text']\n",
    "            position_docs = docs['law_id']\n",
    "print(\"Max length rule : \",max_length_rule)\n",
    "print(\"Max length title : \",max_length_title)\n",
    "#print(position_docs,position_article)\n",
    "print(\"Average article : \",1.0*avg_article/count)\n",
    "print(\"Average title : \",1.0*avg_title/count)\n",
    "print(count)"
   ]
  },
  {
   "cell_type": "code",
   "execution_count": 42,
   "id": "b2480740",
   "metadata": {},
   "outputs": [
    {
     "data": {
      "text/plain": [
       "(array([6.1046e+04, 2.9000e+02, 5.6000e+01, 1.5000e+01]),\n",
       " array([   0, 2000, 4000, 6000, 8000]),\n",
       " <BarContainer object of 4 artists>)"
      ]
     },
     "execution_count": 42,
     "metadata": {},
     "output_type": "execute_result"
    },
    {
     "data": {
      "image/png": "[encoded data removed]",
      "text/plain": [
       "<Figure size 432x288 with 1 Axes>"
      ]
     },
     "metadata": {
      "needs_background": "light"
     },
     "output_type": "display_data"
    }
   ],
   "source": [
    "import matplotlib.pyplot as plt\n",
    "\n",
    "%matplotlib inline\n",
    "\n",
    "\n",
    "plt.hist(articles,bins=range(0,10000,2000))"
   ]
  },
  {
   "cell_type": "code",
   "execution_count": 31,
   "id": "32a4e3d0",
   "metadata": {},
   "outputs": [],
   "source": [
    "articles = sorted(articles)"
   ]
  },
  {
   "cell_type": "code",
   "execution_count": 40,
   "id": "1426c347",
   "metadata": {},
   "outputs": [],
   "source": [
    "articles = articles[:-5]"
   ]
  },
  {
   "cell_type": "code",
   "execution_count": null,
   "id": "d16b5ded",
   "metadata": {},
   "outputs": [],
   "source": []
  }
 ],
 "metadata": {
  "kernelspec": {
   "display_name": "Python VinHR",
   "language": "python",
   "name": "vinhr"
  },
  "language_info": {
   "codemirror_mode": {
    "name": "ipython",
    "version": 3
   },
   "file_extension": ".py",
   "mimetype": "text/x-python",
   "name": "python",
   "nbconvert_exporter": "python",
   "pygments_lexer": "ipython3",
   "version": "3.7.10"
  }
 },
 "nbformat": 4,
 "nbformat_minor": 5
}
